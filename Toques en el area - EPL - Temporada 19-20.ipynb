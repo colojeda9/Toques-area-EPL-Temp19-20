{
 "cells": [
  {
   "cell_type": "markdown",
   "id": "d2652b38",
   "metadata": {},
   "source": [
    "* # Análisis exploratorio sobre un dataset que contiene la cantidad de toques dentreo del area de un jugador en la PREMIER LEAGUE - 19/20 \n",
    "* # Podemos hacer lo siguientes análisis\n",
    "    * ## Análisis de impacto en el equipo.\n",
    "    * ## Análisis de rendimiento por posición.\n",
    "    * ## Análisis de comparación de jugadores u equipos.\n",
    "    * ## Por ultimo Predicción de goles por toques en el area(para eso tendre que agregar uno por uno los goles convertidos por cada jugador por que no encontre ningun dataset que contenga los goleadores de la temporada 19/20)\n",
    "    \n",
    "    ----\n",
    "* #### PAGINA DONDE SACAMOS LOS GOLES DE ALGUNOS JUGADORES Y AGREGAREMOS MANUALMENTE. https://www.sport.es/es/resultados/2019-2020/premier-league/maximos-goleadores/"
   ]
  },
  {
   "cell_type": "code",
   "execution_count": 61,
   "id": "c2d3643c",
   "metadata": {},
   "outputs": [],
   "source": [
    "import pandas as pd\n",
    "import matplotlib.pyplot as plt\n",
    "import numpy as np"
   ]
  },
  {
   "cell_type": "code",
   "execution_count": 2,
   "id": "d8def9f5",
   "metadata": {},
   "outputs": [
    {
     "name": "stdout",
     "output_type": "stream",
     "text": [
      "<class 'pandas.core.frame.DataFrame'>\n",
      "RangeIndex: 100 entries, 0 to 99\n",
      "Data columns (total 9 columns):\n",
      " #   Column          Non-Null Count  Dtype  \n",
      "---  ------          --------------  -----  \n",
      " 0   index           100 non-null    int64  \n",
      " 1   Player Name     100 non-null    object \n",
      " 2   Position        100 non-null    object \n",
      " 3   Team            100 non-null    object \n",
      " 4   Touches in Box  100 non-null    int64  \n",
      " 5   Starts          100 non-null    int64  \n",
      " 6   Minutes Played  100 non-null    int64  \n",
      " 7   Fouled          100 non-null    int64  \n",
      " 8   goles           56 non-null     float64\n",
      "dtypes: float64(1), int64(5), object(3)\n",
      "memory usage: 7.2+ KB\n"
     ]
    }
   ],
   "source": [
    "data = pd.read_csv(\"./toques-area-EPL.csv\")\n",
    "data.info()"
   ]
  },
  {
   "cell_type": "code",
   "execution_count": 3,
   "id": "fb35867c",
   "metadata": {},
   "outputs": [
    {
     "data": {
      "text/html": [
       "<div>\n",
       "<style scoped>\n",
       "    .dataframe tbody tr th:only-of-type {\n",
       "        vertical-align: middle;\n",
       "    }\n",
       "\n",
       "    .dataframe tbody tr th {\n",
       "        vertical-align: top;\n",
       "    }\n",
       "\n",
       "    .dataframe thead th {\n",
       "        text-align: right;\n",
       "    }\n",
       "</style>\n",
       "<table border=\"1\" class=\"dataframe\">\n",
       "  <thead>\n",
       "    <tr style=\"text-align: right;\">\n",
       "      <th></th>\n",
       "      <th>index</th>\n",
       "      <th>Player Name</th>\n",
       "      <th>Position</th>\n",
       "      <th>Team</th>\n",
       "      <th>Touches in Box</th>\n",
       "      <th>Starts</th>\n",
       "      <th>Minutes Played</th>\n",
       "      <th>Fouled</th>\n",
       "      <th>goles</th>\n",
       "    </tr>\n",
       "  </thead>\n",
       "  <tbody>\n",
       "    <tr>\n",
       "      <th>0</th>\n",
       "      <td>0</td>\n",
       "      <td>Salah</td>\n",
       "      <td>Forward</td>\n",
       "      <td>Liverpool</td>\n",
       "      <td>248</td>\n",
       "      <td>33</td>\n",
       "      <td>2876</td>\n",
       "      <td>18</td>\n",
       "      <td>19.0</td>\n",
       "    </tr>\n",
       "    <tr>\n",
       "      <th>1</th>\n",
       "      <td>1</td>\n",
       "      <td>Sterling</td>\n",
       "      <td>Forward</td>\n",
       "      <td>M. City</td>\n",
       "      <td>239</td>\n",
       "      <td>30</td>\n",
       "      <td>2651</td>\n",
       "      <td>40</td>\n",
       "      <td>20.0</td>\n",
       "    </tr>\n",
       "    <tr>\n",
       "      <th>2</th>\n",
       "      <td>2</td>\n",
       "      <td>Zaha</td>\n",
       "      <td>Forward</td>\n",
       "      <td>Crystal Palace</td>\n",
       "      <td>192</td>\n",
       "      <td>37</td>\n",
       "      <td>3280</td>\n",
       "      <td>120</td>\n",
       "      <td>4.0</td>\n",
       "    </tr>\n",
       "    <tr>\n",
       "      <th>3</th>\n",
       "      <td>3</td>\n",
       "      <td>Roberto Firmino</td>\n",
       "      <td>Forward</td>\n",
       "      <td>Liverpool</td>\n",
       "      <td>184</td>\n",
       "      <td>34</td>\n",
       "      <td>2988</td>\n",
       "      <td>16</td>\n",
       "      <td>9.0</td>\n",
       "    </tr>\n",
       "    <tr>\n",
       "      <th>4</th>\n",
       "      <td>4</td>\n",
       "      <td>Raúl Jiménez</td>\n",
       "      <td>Forward</td>\n",
       "      <td>Wolves</td>\n",
       "      <td>171</td>\n",
       "      <td>37</td>\n",
       "      <td>3236</td>\n",
       "      <td>35</td>\n",
       "      <td>17.0</td>\n",
       "    </tr>\n",
       "  </tbody>\n",
       "</table>\n",
       "</div>"
      ],
      "text/plain": [
       "   index       Player Name Position            Team  Touches in Box  Starts  \\\n",
       "0      0            Salah   Forward       Liverpool             248      33   \n",
       "1      1         Sterling   Forward         M. City             239      30   \n",
       "2      2              Zaha  Forward  Crystal Palace             192      37   \n",
       "3      3  Roberto Firmino   Forward       Liverpool             184      34   \n",
       "4      4     Raúl Jiménez   Forward          Wolves             171      37   \n",
       "\n",
       "   Minutes Played  Fouled  goles  \n",
       "0            2876      18   19.0  \n",
       "1            2651      40   20.0  \n",
       "2            3280     120    4.0  \n",
       "3            2988      16    9.0  \n",
       "4            3236      35   17.0  "
      ]
     },
     "execution_count": 3,
     "metadata": {},
     "output_type": "execute_result"
    }
   ],
   "source": [
    "data.head()"
   ]
  },
  {
   "cell_type": "markdown",
   "id": "59891d67",
   "metadata": {},
   "source": [
    "* Vamos a modificar los nombres de las columnas asi se entiende mas.\n",
    "-----"
   ]
  },
  {
   "cell_type": "code",
   "execution_count": 4,
   "id": "74681159",
   "metadata": {},
   "outputs": [],
   "source": [
    "data = data.rename(columns={\"Player Name\":\"jugadores\",\"Position\":\"posicion\",\"Team\":\"equipo\",\n",
    "                           \"Touches in Box\":\"toques_area\",\"Starts\":\"comienzo\",\n",
    "                            \"Minutes Played\":\"minutos_jugados\", \"Fouled\":\"foul_recibido\"})"
   ]
  },
  {
   "cell_type": "code",
   "execution_count": 5,
   "id": "3d8097ae",
   "metadata": {},
   "outputs": [
    {
     "data": {
      "text/html": [
       "<div>\n",
       "<style scoped>\n",
       "    .dataframe tbody tr th:only-of-type {\n",
       "        vertical-align: middle;\n",
       "    }\n",
       "\n",
       "    .dataframe tbody tr th {\n",
       "        vertical-align: top;\n",
       "    }\n",
       "\n",
       "    .dataframe thead th {\n",
       "        text-align: right;\n",
       "    }\n",
       "</style>\n",
       "<table border=\"1\" class=\"dataframe\">\n",
       "  <thead>\n",
       "    <tr style=\"text-align: right;\">\n",
       "      <th></th>\n",
       "      <th>index</th>\n",
       "      <th>toques_area</th>\n",
       "      <th>comienzo</th>\n",
       "      <th>minutos_jugados</th>\n",
       "      <th>foul_recibido</th>\n",
       "      <th>goles</th>\n",
       "    </tr>\n",
       "  </thead>\n",
       "  <tbody>\n",
       "    <tr>\n",
       "      <th>count</th>\n",
       "      <td>100.000000</td>\n",
       "      <td>100.00000</td>\n",
       "      <td>100.000000</td>\n",
       "      <td>100.000000</td>\n",
       "      <td>100.000000</td>\n",
       "      <td>56.000000</td>\n",
       "    </tr>\n",
       "    <tr>\n",
       "      <th>mean</th>\n",
       "      <td>49.500000</td>\n",
       "      <td>88.12000</td>\n",
       "      <td>26.080000</td>\n",
       "      <td>2304.070000</td>\n",
       "      <td>33.950000</td>\n",
       "      <td>9.428571</td>\n",
       "    </tr>\n",
       "    <tr>\n",
       "      <th>std</th>\n",
       "      <td>29.011492</td>\n",
       "      <td>42.50877</td>\n",
       "      <td>7.824695</td>\n",
       "      <td>672.247899</td>\n",
       "      <td>23.927658</td>\n",
       "      <td>6.032811</td>\n",
       "    </tr>\n",
       "    <tr>\n",
       "      <th>min</th>\n",
       "      <td>0.000000</td>\n",
       "      <td>44.00000</td>\n",
       "      <td>6.000000</td>\n",
       "      <td>764.000000</td>\n",
       "      <td>9.000000</td>\n",
       "      <td>0.000000</td>\n",
       "    </tr>\n",
       "    <tr>\n",
       "      <th>25%</th>\n",
       "      <td>24.750000</td>\n",
       "      <td>55.00000</td>\n",
       "      <td>21.000000</td>\n",
       "      <td>1841.750000</td>\n",
       "      <td>18.000000</td>\n",
       "      <td>4.750000</td>\n",
       "    </tr>\n",
       "    <tr>\n",
       "      <th>50%</th>\n",
       "      <td>49.500000</td>\n",
       "      <td>75.50000</td>\n",
       "      <td>26.500000</td>\n",
       "      <td>2299.500000</td>\n",
       "      <td>29.000000</td>\n",
       "      <td>8.500000</td>\n",
       "    </tr>\n",
       "    <tr>\n",
       "      <th>75%</th>\n",
       "      <td>74.250000</td>\n",
       "      <td>116.25000</td>\n",
       "      <td>32.000000</td>\n",
       "      <td>2869.250000</td>\n",
       "      <td>40.250000</td>\n",
       "      <td>13.250000</td>\n",
       "    </tr>\n",
       "    <tr>\n",
       "      <th>max</th>\n",
       "      <td>99.000000</td>\n",
       "      <td>248.00000</td>\n",
       "      <td>38.000000</td>\n",
       "      <td>3420.000000</td>\n",
       "      <td>167.000000</td>\n",
       "      <td>23.000000</td>\n",
       "    </tr>\n",
       "  </tbody>\n",
       "</table>\n",
       "</div>"
      ],
      "text/plain": [
       "            index  toques_area    comienzo  minutos_jugados  foul_recibido  \\\n",
       "count  100.000000    100.00000  100.000000       100.000000     100.000000   \n",
       "mean    49.500000     88.12000   26.080000      2304.070000      33.950000   \n",
       "std     29.011492     42.50877    7.824695       672.247899      23.927658   \n",
       "min      0.000000     44.00000    6.000000       764.000000       9.000000   \n",
       "25%     24.750000     55.00000   21.000000      1841.750000      18.000000   \n",
       "50%     49.500000     75.50000   26.500000      2299.500000      29.000000   \n",
       "75%     74.250000    116.25000   32.000000      2869.250000      40.250000   \n",
       "max     99.000000    248.00000   38.000000      3420.000000     167.000000   \n",
       "\n",
       "           goles  \n",
       "count  56.000000  \n",
       "mean    9.428571  \n",
       "std     6.032811  \n",
       "min     0.000000  \n",
       "25%     4.750000  \n",
       "50%     8.500000  \n",
       "75%    13.250000  \n",
       "max    23.000000  "
      ]
     },
     "execution_count": 5,
     "metadata": {},
     "output_type": "execute_result"
    }
   ],
   "source": [
    "data.describe()"
   ]
  },
  {
   "cell_type": "markdown",
   "id": "6b763684",
   "metadata": {},
   "source": [
    "**Observación** \n",
    "* La media de toques en el area de los 100 jugadores es de %88.16\n",
    "* La media de goles es de 9.42 \n",
    "* La media de minutos jugados es de 2304' \n",
    "* La media de foul recibido es de 34 por cada jugador\n",
    "------"
   ]
  },
  {
   "cell_type": "code",
   "execution_count": 6,
   "id": "d17c64fa",
   "metadata": {},
   "outputs": [
    {
     "data": {
      "text/plain": [
       "index               0\n",
       "jugadores           0\n",
       "posicion            0\n",
       "equipo              0\n",
       "toques_area         0\n",
       "comienzo            0\n",
       "minutos_jugados     0\n",
       "foul_recibido       0\n",
       "goles              44\n",
       "dtype: int64"
      ]
     },
     "execution_count": 6,
     "metadata": {},
     "output_type": "execute_result"
    }
   ],
   "source": [
    "data.isna().sum()"
   ]
  },
  {
   "cell_type": "markdown",
   "id": "6aa17a64",
   "metadata": {},
   "source": [
    "* Tenemos los valores nulos de los jugadores que no cargamos los goles o que no convirtieron.\n",
    "----"
   ]
  },
  {
   "cell_type": "code",
   "execution_count": 7,
   "id": "e308b305",
   "metadata": {},
   "outputs": [],
   "source": [
    "data[\"goles\"] = data[\"goles\"].fillna(0).astype(int)\n",
    "#data[\"goles\"] = data[\"goles\"].astype(int)"
   ]
  },
  {
   "cell_type": "markdown",
   "id": "d8ce0e1b",
   "metadata": {},
   "source": [
    "* Pasaremos lo valores N/A a 0 y luego los numero de goles pasarlos a numero enteros.\n",
    "---"
   ]
  },
  {
   "cell_type": "code",
   "execution_count": 8,
   "id": "2414e175",
   "metadata": {},
   "outputs": [],
   "source": [
    "import seaborn as sns"
   ]
  },
  {
   "cell_type": "code",
   "execution_count": 9,
   "id": "9e888fa4",
   "metadata": {},
   "outputs": [
    {
     "name": "stderr",
     "output_type": "stream",
     "text": [
      "C:\\Users\\Acer\\AppData\\Local\\Temp\\ipykernel_8592\\2085987848.py:2: FutureWarning: The default value of numeric_only in DataFrame.corr is deprecated. In a future version, it will default to False. Select only valid columns or specify the value of numeric_only to silence this warning.\n",
      "  correlacion_EPL = data.corr()\n"
     ]
    },
    {
     "data": {
      "image/png": "[encoded data removed]",
      "text/plain": [
       "<Figure size 900x900 with 2 Axes>"
      ]
     },
     "metadata": {},
     "output_type": "display_data"
    }
   ],
   "source": [
    "#### ##### ### Creamos la correlacion entre variables y la graficamos con la libreria seaborn \n",
    "correlacion_EPL = data.corr()\n",
    "plt.figure(figsize=(9,9))\n",
    "sns.heatmap(correlacion_EPL , annot=True , fmt ='.2f',\n",
    "            cmap=plt.cm.coolwarm_r)\n",
    "plt.xticks(rotation=23)\n",
    "plt.show()"
   ]
  },
  {
   "cell_type": "markdown",
   "id": "30998652",
   "metadata": {},
   "source": [
    "**Observación** \n",
    "* ***Las variables con mayor correlacion son las siguientes:***\n",
    "    * toques en el area y goles = 0.75\n",
    "    * minutos jugados con el comienzo del partido = 0.99\n",
    "    * comoienzo de partido con toques en el area = 0.35\n",
    "    * toques en el area y minutos jugados = 0.34\n",
    "    * foul recibido junto a comienzo y minutos jugados = 0.32\n",
    "    * goles junto a comienzo y minutos jugados = 0.29\n",
    "    * foul recibidos y toques en el area = 0.21\n",
    "    * Por ultimo el mas baja de las correlaciones positivas es goles y foul recibido = 0.09\n",
    "\n",
    "**Dandole una redación rapida podemos entender que mas minutos de juego y comienzo del partido tiene mas posibilidades de tocar mas el area, recibe mas fouls y tiene mas posibilidades de gol**\n",
    "\n",
    "\n",
    "----"
   ]
  },
  {
   "cell_type": "code",
   "execution_count": 10,
   "id": "997593bb",
   "metadata": {},
   "outputs": [],
   "source": [
    "posicion_dummy = pd.get_dummies(data[\"posicion\"])\n",
    "equipo_dummy = pd.get_dummies(data[\"equipo\"])"
   ]
  },
  {
   "cell_type": "code",
   "execution_count": 11,
   "id": "991db100",
   "metadata": {
    "scrolled": true
   },
   "outputs": [
    {
     "name": "stdout",
     "output_type": "stream",
     "text": [
      "posiciones\n",
      "Defender      13\n",
      "Forward       51\n",
      "Midfielder    36\n",
      "dtype: int64\n"
     ]
    },
    {
     "data": {
      "text/plain": [
       "(None, None)"
      ]
     },
     "execution_count": 11,
     "metadata": {},
     "output_type": "execute_result"
    }
   ],
   "source": [
    "print(\"posiciones\"),print(posicion_dummy.sum())"
   ]
  },
  {
   "cell_type": "markdown",
   "id": "e4f40ca5",
   "metadata": {},
   "source": [
    "**Observacion**\n",
    "* Podemos ver que los delanteros tienen mas toques en el area de los principales 100 jugadores de la premier league\n",
    "    * Delanteros = 51\n",
    "    * Medio/volantes = 36\n",
    "    * Defensores = 13\n",
    "    ------"
   ]
  },
  {
   "cell_type": "code",
   "execution_count": 12,
   "id": "89e097d7",
   "metadata": {},
   "outputs": [
    {
     "name": "stdout",
     "output_type": "stream",
     "text": [
      "Cantdad de jugadores por equipos\n",
      "Arsenal           3\n",
      "Aston Villa       5\n",
      "Bournemouth       5\n",
      "Brighton          3\n",
      "Burnley           4\n",
      "Chelsea           6\n",
      "Crystal Palace    5\n",
      "Everton           8\n",
      "Leicester         6\n",
      "Liverpool         6\n",
      "M. City           7\n",
      "M. United         5\n",
      "Newcastle         3\n",
      "Norwich City      4\n",
      "Sheffield Utd     7\n",
      "Southampton       5\n",
      "Tottenham         4\n",
      "Watford           5\n",
      "West Ham          4\n",
      "Wolves            5\n",
      "dtype: int64\n"
     ]
    },
    {
     "data": {
      "text/plain": [
       "(None, None)"
      ]
     },
     "execution_count": 12,
     "metadata": {},
     "output_type": "execute_result"
    }
   ],
   "source": [
    "print(\"Cantdad de jugadores por equipos\"),print(equipo_dummy.sum())"
   ]
  },
  {
   "cell_type": "markdown",
   "id": "4c8e17a1",
   "metadata": {},
   "source": [
    "**Observación**\n",
    "* El equipo que tiene mas jugadores en toques dentro del area es el Everton con 8 jugadores\n",
    "    * **Everton = 8 | Sheffield Utd = 7 - | M.city = 7 | LIVERPOOL = 6 | Chelsea & Leicester = 6**\n",
    "    -----\n",
    "    \n",
    "    \n",
    "* # PREDICCIONES.\n",
    "---\n",
    "* # Regresión lineal simple.\n",
    "\n",
    "* ### Predicción del número de goles que un jugador marcará en función de la cantidad de toques que tenga en el área"
   ]
  },
  {
   "cell_type": "code",
   "execution_count": 13,
   "id": "dd6287e0",
   "metadata": {},
   "outputs": [],
   "source": [
    "from sklearn.model_selection import train_test_split"
   ]
  },
  {
   "cell_type": "code",
   "execution_count": 14,
   "id": "0f87d4e4",
   "metadata": {},
   "outputs": [],
   "source": [
    "X = data[[\"toques_area\"]]\n",
    "y = data[[\"goles\"]]"
   ]
  },
  {
   "cell_type": "code",
   "execution_count": 15,
   "id": "f93fd24d",
   "metadata": {},
   "outputs": [],
   "source": [
    "X_train , X_test , y_train , y_test = train_test_split(X,y, test_size=0.3 , random_state=42) #Conjunto de training y test"
   ]
  },
  {
   "cell_type": "code",
   "execution_count": 16,
   "id": "c09f9962",
   "metadata": {},
   "outputs": [],
   "source": [
    "from sklearn.linear_model import LinearRegression"
   ]
  },
  {
   "cell_type": "code",
   "execution_count": 17,
   "id": "3600694f",
   "metadata": {},
   "outputs": [
    {
     "data": {
      "text/html": [
       "<style>#sk-container-id-1 {color: black;background-color: white;}#sk-container-id-1 pre{padding: 0;}#sk-container-id-1 div.sk-toggleable {background-color: white;}#sk-container-id-1 label.sk-toggleable__label {cursor: pointer;display: block;width: 100%;margin-bottom: 0;padding: 0.3em;box-sizing: border-box;text-align: center;}#sk-container-id-1 label.sk-toggleable__label-arrow:before {content: \"▸\";float: left;margin-right: 0.25em;color: #696969;}#sk-container-id-1 label.sk-toggleable__label-arrow:hover:before {color: black;}#sk-container-id-1 div.sk-estimator:hover label.sk-toggleable__label-arrow:before {color: black;}#sk-container-id-1 div.sk-toggleable__content {max-height: 0;max-width: 0;overflow: hidden;text-align: left;background-color: #f0f8ff;}#sk-container-id-1 div.sk-toggleable__content pre {margin: 0.2em;color: black;border-radius: 0.25em;background-color: #f0f8ff;}#sk-container-id-1 input.sk-toggleable__control:checked~div.sk-toggleable__content {max-height: 200px;max-width: 100%;overflow: auto;}#sk-container-id-1 input.sk-toggleable__control:checked~label.sk-toggleable__label-arrow:before {content: \"▾\";}#sk-container-id-1 div.sk-estimator input.sk-toggleable__control:checked~label.sk-toggleable__label {background-color: #d4ebff;}#sk-container-id-1 div.sk-label input.sk-toggleable__control:checked~label.sk-toggleable__label {background-color: #d4ebff;}#sk-container-id-1 input.sk-hidden--visually {border: 0;clip: rect(1px 1px 1px 1px);clip: rect(1px, 1px, 1px, 1px);height: 1px;margin: -1px;overflow: hidden;padding: 0;position: absolute;width: 1px;}#sk-container-id-1 div.sk-estimator {font-family: monospace;background-color: #f0f8ff;border: 1px dotted black;border-radius: 0.25em;box-sizing: border-box;margin-bottom: 0.5em;}#sk-container-id-1 div.sk-estimator:hover {background-color: #d4ebff;}#sk-container-id-1 div.sk-parallel-item::after {content: \"\";width: 100%;border-bottom: 1px solid gray;flex-grow: 1;}#sk-container-id-1 div.sk-label:hover label.sk-toggleable__label {background-color: #d4ebff;}#sk-container-id-1 div.sk-serial::before {content: \"\";position: absolute;border-left: 1px solid gray;box-sizing: border-box;top: 0;bottom: 0;left: 50%;z-index: 0;}#sk-container-id-1 div.sk-serial {display: flex;flex-direction: column;align-items: center;background-color: white;padding-right: 0.2em;padding-left: 0.2em;position: relative;}#sk-container-id-1 div.sk-item {position: relative;z-index: 1;}#sk-container-id-1 div.sk-parallel {display: flex;align-items: stretch;justify-content: center;background-color: white;position: relative;}#sk-container-id-1 div.sk-item::before, #sk-container-id-1 div.sk-parallel-item::before {content: \"\";position: absolute;border-left: 1px solid gray;box-sizing: border-box;top: 0;bottom: 0;left: 50%;z-index: -1;}#sk-container-id-1 div.sk-parallel-item {display: flex;flex-direction: column;z-index: 1;position: relative;background-color: white;}#sk-container-id-1 div.sk-parallel-item:first-child::after {align-self: flex-end;width: 50%;}#sk-container-id-1 div.sk-parallel-item:last-child::after {align-self: flex-start;width: 50%;}#sk-container-id-1 div.sk-parallel-item:only-child::after {width: 0;}#sk-container-id-1 div.sk-dashed-wrapped {border: 1px dashed gray;margin: 0 0.4em 0.5em 0.4em;box-sizing: border-box;padding-bottom: 0.4em;background-color: white;}#sk-container-id-1 div.sk-label label {font-family: monospace;font-weight: bold;display: inline-block;line-height: 1.2em;}#sk-container-id-1 div.sk-label-container {text-align: center;}#sk-container-id-1 div.sk-container {/* jupyter's `normalize.less` sets `[hidden] { display: none; }` but bootstrap.min.css set `[hidden] { display: none !important; }` so we also need the `!important` here to be able to override the default hidden behavior on the sphinx rendered scikit-learn.org. See: https://github.com/scikit-learn/scikit-learn/issues/21755 */display: inline-block !important;position: relative;}#sk-container-id-1 div.sk-text-repr-fallback {display: none;}</style><div id=\"sk-container-id-1\" class=\"sk-top-container\"><div class=\"sk-text-repr-fallback\"><pre>LinearRegression()</pre><b>In a Jupyter environment, please rerun this cell to show the HTML representation or trust the notebook. <br />On GitHub, the HTML representation is unable to render, please try loading this page with nbviewer.org.</b></div><div class=\"sk-container\" hidden><div class=\"sk-item\"><div class=\"sk-estimator sk-toggleable\"><input class=\"sk-toggleable__control sk-hidden--visually\" id=\"sk-estimator-id-1\" type=\"checkbox\" checked><label for=\"sk-estimator-id-1\" class=\"sk-toggleable__label sk-toggleable__label-arrow\">LinearRegression</label><div class=\"sk-toggleable__content\"><pre>LinearRegression()</pre></div></div></div></div></div>"
      ],
      "text/plain": [
       "LinearRegression()"
      ]
     },
     "execution_count": 17,
     "metadata": {},
     "output_type": "execute_result"
    }
   ],
   "source": [
    "modelo_lineal = LinearRegression()\n",
    "modelo_lineal.fit(X_train , y_train)"
   ]
  },
  {
   "cell_type": "code",
   "execution_count": 18,
   "id": "048e1ac7",
   "metadata": {},
   "outputs": [],
   "source": [
    "y_pred = modelo_lineal.predict(X_test)"
   ]
  },
  {
   "cell_type": "code",
   "execution_count": 19,
   "id": "def1ed89",
   "metadata": {},
   "outputs": [],
   "source": [
    "from sklearn.metrics import mean_squared_error, r2_score"
   ]
  },
  {
   "cell_type": "code",
   "execution_count": 20,
   "id": "69632a4b",
   "metadata": {},
   "outputs": [
    {
     "name": "stdout",
     "output_type": "stream",
     "text": [
      "MSE 11.393190202719872\n",
      "R2 0.7105388668008163\n"
     ]
    }
   ],
   "source": [
    "mse = mean_squared_error(y_test , y_pred)\n",
    "r2 = r2_score(y_test , y_pred)\n",
    "print(\"MSE\",mse)\n",
    "print(\"R2\",r2)"
   ]
  },
  {
   "cell_type": "code",
   "execution_count": 21,
   "id": "833648ef",
   "metadata": {},
   "outputs": [
    {
     "data": {
      "text/plain": [
       "[<matplotlib.lines.Line2D at 0x20c2a7ce1c0>]"
      ]
     },
     "execution_count": 21,
     "metadata": {},
     "output_type": "execute_result"
    },
    {
     "data": {
      "image/png": "[encoded data removed]",
      "text/plain": [
       "<Figure size 640x480 with 1 Axes>"
      ]
     },
     "metadata": {},
     "output_type": "display_data"
    }
   ],
   "source": [
    "### #### Creamos una predicción general para luego hacer un grafico y demostrar la mejor predicción que creo el modelor\n",
    "y_pred1 = modelo_lineal.predict(X)\n",
    "\n",
    "### #### Creamos el grafico\n",
    "data.plot(kind=\"scatter\" , x=\"toques_area\" , y=\"goles\")\n",
    "plt.plot(pd.DataFrame(data[\"toques_area\"]) , y_pred1, c=\"red\" , linewidth=3)"
   ]
  },
  {
   "cell_type": "markdown",
   "id": "ec2c09af",
   "metadata": {},
   "source": [
    "* **Linea roja** es la predicción y los **puntos azules** son los datos originales del dataset.\n",
    "\n",
    "\n",
    "----\n",
    "----\n",
    "* ### Vemos que con una regresión lineal simple el modelo va algo positivo, teniendo en cuenta que podremos agregar mas variables predictoras e intentando otros modelos de predicciones\n",
    "    * ### El valor de efectividad del modelo es de %71.05\n",
    "    * ### el valor de 'MSE' es de %11.39 (mide la discrepancia entre los valores reales y las predicciones)\n",
    ".-----------------------------------------------------------------------------------------------------------------------------------------------------------------------------------------------------.\n",
    "-----\n",
    "---\n",
    "\n",
    "* # PREDICCIÓN.\n",
    "* # Regresión Lineal con mas variables predictoras."
   ]
  },
  {
   "cell_type": "code",
   "execution_count": 22,
   "id": "1f59016c",
   "metadata": {},
   "outputs": [],
   "source": [
    "from sklearn.feature_selection import RFE\n",
    "from sklearn.svm import SVR"
   ]
  },
  {
   "cell_type": "code",
   "execution_count": 23,
   "id": "a3451199",
   "metadata": {},
   "outputs": [],
   "source": [
    "#### #### Primero agregamos al dataset la variable posición que dumificamos \n",
    "data_dummy = pd.concat([data , posicion_dummy], axis=1)\n",
    "data_dummy = data_dummy.drop([\"posicion\"], axis=1)"
   ]
  },
  {
   "cell_type": "code",
   "execution_count": 24,
   "id": "81789a77",
   "metadata": {},
   "outputs": [],
   "source": [
    "#### ### Lista de variables predictoras y a predecir\n",
    "X1 = data_dummy[[\"toques_area\",\"comienzo\",\"minutos_jugados\",\"foul_recibido\",\"Defender\",\"Forward\",\"Midfielder\"]]\n",
    "Y = data_dummy[\"goles\"]"
   ]
  },
  {
   "cell_type": "code",
   "execution_count": 25,
   "id": "c59b89bf",
   "metadata": {},
   "outputs": [],
   "source": [
    "#### #### le pediremos que nos elija las mejores variables para usar y crear el modelo\n",
    "estimator = SVR(kernel=\"linear\")\n",
    "selector = RFE(estimator , n_features_to_select=4 , step=1)\n",
    "selector = selector.fit(X1,Y)"
   ]
  },
  {
   "cell_type": "code",
   "execution_count": 26,
   "id": "ad5cd36f",
   "metadata": {},
   "outputs": [
    {
     "data": {
      "text/plain": [
       "array([1, 2, 4, 3, 1, 1, 1])"
      ]
     },
     "execution_count": 26,
     "metadata": {},
     "output_type": "execute_result"
    }
   ],
   "source": [
    "#### Nos diga las mejores variables para usar\n",
    "selector.ranking_"
   ]
  },
  {
   "cell_type": "code",
   "execution_count": 27,
   "id": "d78cc43e",
   "metadata": {},
   "outputs": [],
   "source": [
    "X_pred = X1[[\"toques_area\",\"Defender\",\"Forward\",\"Midfielder\"]]"
   ]
  },
  {
   "cell_type": "code",
   "execution_count": 28,
   "id": "fdd33a5c",
   "metadata": {},
   "outputs": [
    {
     "data": {
      "text/html": [
       "<style>#sk-container-id-2 {color: black;background-color: white;}#sk-container-id-2 pre{padding: 0;}#sk-container-id-2 div.sk-toggleable {background-color: white;}#sk-container-id-2 label.sk-toggleable__label {cursor: pointer;display: block;width: 100%;margin-bottom: 0;padding: 0.3em;box-sizing: border-box;text-align: center;}#sk-container-id-2 label.sk-toggleable__label-arrow:before {content: \"▸\";float: left;margin-right: 0.25em;color: #696969;}#sk-container-id-2 label.sk-toggleable__label-arrow:hover:before {color: black;}#sk-container-id-2 div.sk-estimator:hover label.sk-toggleable__label-arrow:before {color: black;}#sk-container-id-2 div.sk-toggleable__content {max-height: 0;max-width: 0;overflow: hidden;text-align: left;background-color: #f0f8ff;}#sk-container-id-2 div.sk-toggleable__content pre {margin: 0.2em;color: black;border-radius: 0.25em;background-color: #f0f8ff;}#sk-container-id-2 input.sk-toggleable__control:checked~div.sk-toggleable__content {max-height: 200px;max-width: 100%;overflow: auto;}#sk-container-id-2 input.sk-toggleable__control:checked~label.sk-toggleable__label-arrow:before {content: \"▾\";}#sk-container-id-2 div.sk-estimator input.sk-toggleable__control:checked~label.sk-toggleable__label {background-color: #d4ebff;}#sk-container-id-2 div.sk-label input.sk-toggleable__control:checked~label.sk-toggleable__label {background-color: #d4ebff;}#sk-container-id-2 input.sk-hidden--visually {border: 0;clip: rect(1px 1px 1px 1px);clip: rect(1px, 1px, 1px, 1px);height: 1px;margin: -1px;overflow: hidden;padding: 0;position: absolute;width: 1px;}#sk-container-id-2 div.sk-estimator {font-family: monospace;background-color: #f0f8ff;border: 1px dotted black;border-radius: 0.25em;box-sizing: border-box;margin-bottom: 0.5em;}#sk-container-id-2 div.sk-estimator:hover {background-color: #d4ebff;}#sk-container-id-2 div.sk-parallel-item::after {content: \"\";width: 100%;border-bottom: 1px solid gray;flex-grow: 1;}#sk-container-id-2 div.sk-label:hover label.sk-toggleable__label {background-color: #d4ebff;}#sk-container-id-2 div.sk-serial::before {content: \"\";position: absolute;border-left: 1px solid gray;box-sizing: border-box;top: 0;bottom: 0;left: 50%;z-index: 0;}#sk-container-id-2 div.sk-serial {display: flex;flex-direction: column;align-items: center;background-color: white;padding-right: 0.2em;padding-left: 0.2em;position: relative;}#sk-container-id-2 div.sk-item {position: relative;z-index: 1;}#sk-container-id-2 div.sk-parallel {display: flex;align-items: stretch;justify-content: center;background-color: white;position: relative;}#sk-container-id-2 div.sk-item::before, #sk-container-id-2 div.sk-parallel-item::before {content: \"\";position: absolute;border-left: 1px solid gray;box-sizing: border-box;top: 0;bottom: 0;left: 50%;z-index: -1;}#sk-container-id-2 div.sk-parallel-item {display: flex;flex-direction: column;z-index: 1;position: relative;background-color: white;}#sk-container-id-2 div.sk-parallel-item:first-child::after {align-self: flex-end;width: 50%;}#sk-container-id-2 div.sk-parallel-item:last-child::after {align-self: flex-start;width: 50%;}#sk-container-id-2 div.sk-parallel-item:only-child::after {width: 0;}#sk-container-id-2 div.sk-dashed-wrapped {border: 1px dashed gray;margin: 0 0.4em 0.5em 0.4em;box-sizing: border-box;padding-bottom: 0.4em;background-color: white;}#sk-container-id-2 div.sk-label label {font-family: monospace;font-weight: bold;display: inline-block;line-height: 1.2em;}#sk-container-id-2 div.sk-label-container {text-align: center;}#sk-container-id-2 div.sk-container {/* jupyter's `normalize.less` sets `[hidden] { display: none; }` but bootstrap.min.css set `[hidden] { display: none !important; }` so we also need the `!important` here to be able to override the default hidden behavior on the sphinx rendered scikit-learn.org. See: https://github.com/scikit-learn/scikit-learn/issues/21755 */display: inline-block !important;position: relative;}#sk-container-id-2 div.sk-text-repr-fallback {display: none;}</style><div id=\"sk-container-id-2\" class=\"sk-top-container\"><div class=\"sk-text-repr-fallback\"><pre>LinearRegression()</pre><b>In a Jupyter environment, please rerun this cell to show the HTML representation or trust the notebook. <br />On GitHub, the HTML representation is unable to render, please try loading this page with nbviewer.org.</b></div><div class=\"sk-container\" hidden><div class=\"sk-item\"><div class=\"sk-estimator sk-toggleable\"><input class=\"sk-toggleable__control sk-hidden--visually\" id=\"sk-estimator-id-2\" type=\"checkbox\" checked><label for=\"sk-estimator-id-2\" class=\"sk-toggleable__label sk-toggleable__label-arrow\">LinearRegression</label><div class=\"sk-toggleable__content\"><pre>LinearRegression()</pre></div></div></div></div></div>"
      ],
      "text/plain": [
       "LinearRegression()"
      ]
     },
     "execution_count": 28,
     "metadata": {},
     "output_type": "execute_result"
    }
   ],
   "source": [
    "lm = LinearRegression()\n",
    "lm.fit(X_pred , Y)"
   ]
  },
  {
   "cell_type": "code",
   "execution_count": 29,
   "id": "00d7040d",
   "metadata": {},
   "outputs": [],
   "source": [
    "#### ### Dividimos otra vez en variable grupos y entrenamiento. \n",
    "X_train , X_test , y_train , y_test  = train_test_split(X_pred, Y, test_size=0.3 , random_state=42 )"
   ]
  },
  {
   "cell_type": "code",
   "execution_count": 30,
   "id": "40aee2cd",
   "metadata": {},
   "outputs": [
    {
     "name": "stdout",
     "output_type": "stream",
     "text": [
      "MSE:9.369110815052174\n",
      "r2:0.7619636479915607\n"
     ]
    }
   ],
   "source": [
    "y_pred = lm.predict(X_test)\n",
    "mse = mean_squared_error(y_test , y_pred)\n",
    "r2 = r2_score(y_test, y_pred)\n",
    "\n",
    "print(f\"MSE:{mse}\")\n",
    "print(f\"r2:{r2}\")"
   ]
  },
  {
   "cell_type": "markdown",
   "id": "114d1927",
   "metadata": {},
   "source": [
    "* ### Podemos ver que el modelo con las variables seleccionadas por el **RFE**, Hizo mejorar un poco mas el modelo un 6% mas\n",
    "    * ### El valor de efectividad del modelo ahora es de %76.19\n",
    "    * ### el valor de 'MSE' es de %9.36 (mide la discrepancia entre los valores reales y las predicciones)\n",
    ".------------------------------------------------------------------------------------------------------------------------------------------------------------------------------------------\n",
    "\n",
    "----\n",
    "* # Creamos una validación cruzada para ver como se comporta el modelo."
   ]
  },
  {
   "cell_type": "code",
   "execution_count": 31,
   "id": "90cf04e4",
   "metadata": {},
   "outputs": [],
   "source": [
    "from sklearn.model_selection import cross_val_predict\n",
    "from sklearn.metrics import mean_absolute_error"
   ]
  },
  {
   "cell_type": "code",
   "execution_count": 32,
   "id": "a3d5c924",
   "metadata": {},
   "outputs": [
    {
     "name": "stdout",
     "output_type": "stream",
     "text": [
      "MAE: 18.628196033569353\n",
      "r2:0.555642054845966\n"
     ]
    }
   ],
   "source": [
    "y_pred = cross_val_predict(lm , X_pred , Y , cv=99)\n",
    "mae = mean_squared_error(Y , y_pred)\n",
    "r2 = r2_score(Y , y_pred)\n",
    "\n",
    "\n",
    "print(f\"MAE: {mae}\")\n",
    "print(f\"r2:{r2}\")"
   ]
  },
  {
   "cell_type": "markdown",
   "id": "6cc9938b",
   "metadata": {},
   "source": [
    "* ### El modelo tiene un MAE de 18.60 y un R2 de 55.56, lo que sugiere que el modelo puede hacer predicciones precisas en promedio, pero todavía hay una cantidad significativa de variabilidad en los datos que no se explica por las variables predictoras utilizadas en el modelo.\n",
    "-----\n",
    "------------------\n",
    "\n",
    "# Random Forest Regressor."
   ]
  },
  {
   "cell_type": "code",
   "execution_count": 47,
   "id": "e35322be",
   "metadata": {},
   "outputs": [],
   "source": [
    "data_forest = data_forest.drop([\"goles\"], axis=1)"
   ]
  },
  {
   "cell_type": "code",
   "execution_count": 56,
   "id": "19a1a12a",
   "metadata": {},
   "outputs": [
    {
     "data": {
      "text/html": [
       "<div>\n",
       "<style scoped>\n",
       "    .dataframe tbody tr th:only-of-type {\n",
       "        vertical-align: middle;\n",
       "    }\n",
       "\n",
       "    .dataframe tbody tr th {\n",
       "        vertical-align: top;\n",
       "    }\n",
       "\n",
       "    .dataframe thead th {\n",
       "        text-align: right;\n",
       "    }\n",
       "</style>\n",
       "<table border=\"1\" class=\"dataframe\">\n",
       "  <thead>\n",
       "    <tr style=\"text-align: right;\">\n",
       "      <th></th>\n",
       "      <th>index</th>\n",
       "      <th>jugadores</th>\n",
       "      <th>equipo</th>\n",
       "      <th>toques_area</th>\n",
       "      <th>comienzo</th>\n",
       "      <th>minutos_jugados</th>\n",
       "      <th>foul_recibido</th>\n",
       "      <th>Defender</th>\n",
       "      <th>Forward</th>\n",
       "      <th>Midfielder</th>\n",
       "      <th>goles</th>\n",
       "    </tr>\n",
       "  </thead>\n",
       "  <tbody>\n",
       "    <tr>\n",
       "      <th>0</th>\n",
       "      <td>0</td>\n",
       "      <td>Salah</td>\n",
       "      <td>Liverpool</td>\n",
       "      <td>248</td>\n",
       "      <td>33</td>\n",
       "      <td>2876</td>\n",
       "      <td>18</td>\n",
       "      <td>0</td>\n",
       "      <td>1</td>\n",
       "      <td>0</td>\n",
       "      <td>19</td>\n",
       "    </tr>\n",
       "    <tr>\n",
       "      <th>1</th>\n",
       "      <td>1</td>\n",
       "      <td>Sterling</td>\n",
       "      <td>M. City</td>\n",
       "      <td>239</td>\n",
       "      <td>30</td>\n",
       "      <td>2651</td>\n",
       "      <td>40</td>\n",
       "      <td>0</td>\n",
       "      <td>1</td>\n",
       "      <td>0</td>\n",
       "      <td>20</td>\n",
       "    </tr>\n",
       "    <tr>\n",
       "      <th>2</th>\n",
       "      <td>2</td>\n",
       "      <td>Zaha</td>\n",
       "      <td>Crystal Palace</td>\n",
       "      <td>192</td>\n",
       "      <td>37</td>\n",
       "      <td>3280</td>\n",
       "      <td>120</td>\n",
       "      <td>0</td>\n",
       "      <td>1</td>\n",
       "      <td>0</td>\n",
       "      <td>4</td>\n",
       "    </tr>\n",
       "    <tr>\n",
       "      <th>3</th>\n",
       "      <td>3</td>\n",
       "      <td>Roberto Firmino</td>\n",
       "      <td>Liverpool</td>\n",
       "      <td>184</td>\n",
       "      <td>34</td>\n",
       "      <td>2988</td>\n",
       "      <td>16</td>\n",
       "      <td>0</td>\n",
       "      <td>1</td>\n",
       "      <td>0</td>\n",
       "      <td>9</td>\n",
       "    </tr>\n",
       "    <tr>\n",
       "      <th>4</th>\n",
       "      <td>4</td>\n",
       "      <td>Raúl Jiménez</td>\n",
       "      <td>Wolves</td>\n",
       "      <td>171</td>\n",
       "      <td>37</td>\n",
       "      <td>3236</td>\n",
       "      <td>35</td>\n",
       "      <td>0</td>\n",
       "      <td>1</td>\n",
       "      <td>0</td>\n",
       "      <td>17</td>\n",
       "    </tr>\n",
       "  </tbody>\n",
       "</table>\n",
       "</div>"
      ],
      "text/plain": [
       "   index         jugadores          equipo  toques_area  comienzo  \\\n",
       "0      0            Salah        Liverpool          248        33   \n",
       "1      1         Sterling          M. City          239        30   \n",
       "2      2              Zaha  Crystal Palace          192        37   \n",
       "3      3  Roberto Firmino        Liverpool          184        34   \n",
       "4      4     Raúl Jiménez           Wolves          171        37   \n",
       "\n",
       "   minutos_jugados  foul_recibido  Defender  Forward  Midfielder  goles  \n",
       "0             2876             18         0        1           0     19  \n",
       "1             2651             40         0        1           0     20  \n",
       "2             3280            120         0        1           0      4  \n",
       "3             2988             16         0        1           0      9  \n",
       "4             3236             35         0        1           0     17  "
      ]
     },
     "execution_count": 56,
     "metadata": {},
     "output_type": "execute_result"
    }
   ],
   "source": [
    "data_forest =pd.concat([data_forest,data[\"goles\"]] , axis=1)\n",
    "data_forest.head()"
   ]
  },
  {
   "cell_type": "code",
   "execution_count": 90,
   "id": "ed59d225",
   "metadata": {},
   "outputs": [],
   "source": [
    "predictoras = X1\n",
    "target = data_forest[[\"goles\"]]"
   ]
  },
  {
   "cell_type": "code",
   "execution_count": 91,
   "id": "f8d20fc7",
   "metadata": {},
   "outputs": [],
   "source": [
    "from sklearn.ensemble import RandomForestRegressor "
   ]
  },
  {
   "cell_type": "code",
   "execution_count": 92,
   "id": "c6ac04a6",
   "metadata": {},
   "outputs": [],
   "source": [
    "X_train , X_test , y_train , y_test = train_test_split(predictoras , target ,test_size=0.3 , random_state=42)"
   ]
  },
  {
   "cell_type": "code",
   "execution_count": 93,
   "id": "5b347a7c",
   "metadata": {},
   "outputs": [
    {
     "name": "stderr",
     "output_type": "stream",
     "text": [
      "C:\\Users\\Acer\\AppData\\Local\\Temp\\ipykernel_8592\\3004444391.py:3: DataConversionWarning: A column-vector y was passed when a 1d array was expected. Please change the shape of y to (n_samples,), for example using ravel().\n",
      "  random_forest.fit(X_train , y_train)\n"
     ]
    },
    {
     "data": {
      "text/html": [
       "<style>#sk-container-id-4 {color: black;background-color: white;}#sk-container-id-4 pre{padding: 0;}#sk-container-id-4 div.sk-toggleable {background-color: white;}#sk-container-id-4 label.sk-toggleable__label {cursor: pointer;display: block;width: 100%;margin-bottom: 0;padding: 0.3em;box-sizing: border-box;text-align: center;}#sk-container-id-4 label.sk-toggleable__label-arrow:before {content: \"▸\";float: left;margin-right: 0.25em;color: #696969;}#sk-container-id-4 label.sk-toggleable__label-arrow:hover:before {color: black;}#sk-container-id-4 div.sk-estimator:hover label.sk-toggleable__label-arrow:before {color: black;}#sk-container-id-4 div.sk-toggleable__content {max-height: 0;max-width: 0;overflow: hidden;text-align: left;background-color: #f0f8ff;}#sk-container-id-4 div.sk-toggleable__content pre {margin: 0.2em;color: black;border-radius: 0.25em;background-color: #f0f8ff;}#sk-container-id-4 input.sk-toggleable__control:checked~div.sk-toggleable__content {max-height: 200px;max-width: 100%;overflow: auto;}#sk-container-id-4 input.sk-toggleable__control:checked~label.sk-toggleable__label-arrow:before {content: \"▾\";}#sk-container-id-4 div.sk-estimator input.sk-toggleable__control:checked~label.sk-toggleable__label {background-color: #d4ebff;}#sk-container-id-4 div.sk-label input.sk-toggleable__control:checked~label.sk-toggleable__label {background-color: #d4ebff;}#sk-container-id-4 input.sk-hidden--visually {border: 0;clip: rect(1px 1px 1px 1px);clip: rect(1px, 1px, 1px, 1px);height: 1px;margin: -1px;overflow: hidden;padding: 0;position: absolute;width: 1px;}#sk-container-id-4 div.sk-estimator {font-family: monospace;background-color: #f0f8ff;border: 1px dotted black;border-radius: 0.25em;box-sizing: border-box;margin-bottom: 0.5em;}#sk-container-id-4 div.sk-estimator:hover {background-color: #d4ebff;}#sk-container-id-4 div.sk-parallel-item::after {content: \"\";width: 100%;border-bottom: 1px solid gray;flex-grow: 1;}#sk-container-id-4 div.sk-label:hover label.sk-toggleable__label {background-color: #d4ebff;}#sk-container-id-4 div.sk-serial::before {content: \"\";position: absolute;border-left: 1px solid gray;box-sizing: border-box;top: 0;bottom: 0;left: 50%;z-index: 0;}#sk-container-id-4 div.sk-serial {display: flex;flex-direction: column;align-items: center;background-color: white;padding-right: 0.2em;padding-left: 0.2em;position: relative;}#sk-container-id-4 div.sk-item {position: relative;z-index: 1;}#sk-container-id-4 div.sk-parallel {display: flex;align-items: stretch;justify-content: center;background-color: white;position: relative;}#sk-container-id-4 div.sk-item::before, #sk-container-id-4 div.sk-parallel-item::before {content: \"\";position: absolute;border-left: 1px solid gray;box-sizing: border-box;top: 0;bottom: 0;left: 50%;z-index: -1;}#sk-container-id-4 div.sk-parallel-item {display: flex;flex-direction: column;z-index: 1;position: relative;background-color: white;}#sk-container-id-4 div.sk-parallel-item:first-child::after {align-self: flex-end;width: 50%;}#sk-container-id-4 div.sk-parallel-item:last-child::after {align-self: flex-start;width: 50%;}#sk-container-id-4 div.sk-parallel-item:only-child::after {width: 0;}#sk-container-id-4 div.sk-dashed-wrapped {border: 1px dashed gray;margin: 0 0.4em 0.5em 0.4em;box-sizing: border-box;padding-bottom: 0.4em;background-color: white;}#sk-container-id-4 div.sk-label label {font-family: monospace;font-weight: bold;display: inline-block;line-height: 1.2em;}#sk-container-id-4 div.sk-label-container {text-align: center;}#sk-container-id-4 div.sk-container {/* jupyter's `normalize.less` sets `[hidden] { display: none; }` but bootstrap.min.css set `[hidden] { display: none !important; }` so we also need the `!important` here to be able to override the default hidden behavior on the sphinx rendered scikit-learn.org. See: https://github.com/scikit-learn/scikit-learn/issues/21755 */display: inline-block !important;position: relative;}#sk-container-id-4 div.sk-text-repr-fallback {display: none;}</style><div id=\"sk-container-id-4\" class=\"sk-top-container\"><div class=\"sk-text-repr-fallback\"><pre>RandomForestRegressor(random_state=42)</pre><b>In a Jupyter environment, please rerun this cell to show the HTML representation or trust the notebook. <br />On GitHub, the HTML representation is unable to render, please try loading this page with nbviewer.org.</b></div><div class=\"sk-container\" hidden><div class=\"sk-item\"><div class=\"sk-estimator sk-toggleable\"><input class=\"sk-toggleable__control sk-hidden--visually\" id=\"sk-estimator-id-4\" type=\"checkbox\" checked><label for=\"sk-estimator-id-4\" class=\"sk-toggleable__label sk-toggleable__label-arrow\">RandomForestRegressor</label><div class=\"sk-toggleable__content\"><pre>RandomForestRegressor(random_state=42)</pre></div></div></div></div></div>"
      ],
      "text/plain": [
       "RandomForestRegressor(random_state=42)"
      ]
     },
     "execution_count": 93,
     "metadata": {},
     "output_type": "execute_result"
    }
   ],
   "source": [
    "### ### Creamos el modelo y lo entrenamos\n",
    "random_forest = RandomForestRegressor(n_estimators=100 , random_state=42)\n",
    "random_forest.fit(X_train , y_train)"
   ]
  },
  {
   "cell_type": "code",
   "execution_count": 94,
   "id": "ddacd3b1",
   "metadata": {},
   "outputs": [],
   "source": [
    "y_pred = random_forest.predict(X_test)"
   ]
  },
  {
   "cell_type": "code",
   "execution_count": 96,
   "id": "7e6446b0",
   "metadata": {},
   "outputs": [
    {
     "name": "stdout",
     "output_type": "stream",
     "text": [
      "Coeficiente de determinación R2: 0.630883722899729\n",
      "Error absoluto medio MAE: 2.4083333333333328\n"
     ]
    }
   ],
   "source": [
    "r2 = r2_score(y_test, y_pred)\n",
    "mae = mean_absolute_error(y_test, y_pred)\n",
    "\n",
    "print(\"Coeficiente de determinación R2:\", r2)\n",
    "print(\"Error absoluto medio MAE:\", mae)"
   ]
  },
  {
   "cell_type": "markdown",
   "id": "9be69125",
   "metadata": {},
   "source": [
    "# RESUMEN HASTA AHORA.\n",
    "* ## El coeficiente de determinación R2 obtenido de 0.63 indica que el modelo de Random Forest Regressor explica aproximadamente el 63% de la variabilidad en la variable objetivo (en este caso, el porcentaje de goles). Por lo tanto, podemos decir que el modelo tiene un buen ajuste.\n",
    "\n",
    "\n",
    "* ## El error absoluto medio MAE de 2.41 indica que, en promedio, las predicciones del modelo tienen un error absoluto de 2.41 puntos porcentuales en comparación con los valores reales de la variable objetivo.\n",
    "    * ### Es decir que que modelor del Random Forest Regressor prece ser un buen predictor del porcentaje de goles, ya que tiene un coeficiente de determinación razonablemente alto y un error absoluto medio bajo. Sin embargo, aún puede haber espacio para mejorar el modelo utilizando técnicas.\n",
    "    \n",
    "# El trabajo lo seguire entre hoy y mañana solamente queria mostrar lo que estoy haciendo hasta ahora (lo empeze hoy 5/5/23)"
   ]
  },
  {
   "cell_type": "code",
   "execution_count": null,
   "id": "c03f1376",
   "metadata": {},
   "outputs": [],
   "source": []
  },
  {
   "cell_type": "code",
   "execution_count": null,
   "id": "a2ea0bf2",
   "metadata": {},
   "outputs": [],
   "source": []
  },
  {
   "cell_type": "code",
   "execution_count": null,
   "id": "acef962b",
   "metadata": {},
   "outputs": [],
   "source": []
  }
 ],
 "metadata": {
  "kernelspec": {
   "display_name": "Python 3 (ipykernel)",
   "language": "python",
   "name": "python3"
  },
  "language_info": {
   "codemirror_mode": {
    "name": "ipython",
    "version": 3
   },
   "file_extension": ".py",
   "mimetype": "text/x-python",
   "name": "python",
   "nbconvert_exporter": "python",
   "pygments_lexer": "ipython3",
   "version": "3.8.13"
  }
 },
 "nbformat": 4,
 "nbformat_minor": 5
}
